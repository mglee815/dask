{
 "cells": [
  {
   "cell_type": "code",
   "execution_count": 19,
   "metadata": {},
   "outputs": [],
   "source": [
    "import dask.dataframe as dd\n",
    "import pandas as pd"
   ]
  },
  {
   "cell_type": "code",
   "execution_count": 20,
   "metadata": {},
   "outputs": [
    {
     "name": "stderr",
     "output_type": "stream",
     "text": [
      "/tmp/ipykernel_16590/2628814811.py:2: DtypeWarning: Columns (4,7) have mixed types. Specify dtype option on import or set low_memory=False.\n",
      "  df = pd.read_csv(\"/home/mglee/VSCODE/txt_summarize/summarized.csv\")\n"
     ]
    }
   ],
   "source": [
    "#df = dd.read_csv(\"/home/mglee/VSCODE/txt_summarize/summarized.csv\")\n",
    "df = pd.read_csv(\"/home/mglee/VSCODE/txt_summarize/summarized.csv\")"
   ]
  },
  {
   "cell_type": "code",
   "execution_count": 21,
   "metadata": {},
   "outputs": [
    {
     "name": "stdout",
     "output_type": "stream",
     "text": [
      "<class 'pandas.core.frame.DataFrame'>\n",
      "RangeIndex: 1705279 entries, 0 to 1705278\n",
      "Data columns (total 13 columns):\n",
      " #   Column      Dtype  \n",
      "---  ------      -----  \n",
      " 0   Unnamed: 0  int64  \n",
      " 1   제목          object \n",
      " 2   본문          object \n",
      " 3   민원발생지       object \n",
      " 4   민원신청경로      object \n",
      " 5   접수기관        object \n",
      " 6   처리부서        object \n",
      " 7   성별          object \n",
      " 8   나이          float64\n",
      " 9   접수일         object \n",
      " 10  year        float64\n",
      " 11  type        object \n",
      " 12  summarize   object \n",
      "dtypes: float64(2), int64(1), object(10)\n",
      "memory usage: 169.1+ MB\n"
     ]
    }
   ],
   "source": [
    "df.info()"
   ]
  },
  {
   "cell_type": "code",
   "execution_count": 22,
   "metadata": {},
   "outputs": [
    {
     "data": {
      "text/html": [
       "<div>\n",
       "<style scoped>\n",
       "    .dataframe tbody tr th:only-of-type {\n",
       "        vertical-align: middle;\n",
       "    }\n",
       "\n",
       "    .dataframe tbody tr th {\n",
       "        vertical-align: top;\n",
       "    }\n",
       "\n",
       "    .dataframe thead th {\n",
       "        text-align: right;\n",
       "    }\n",
       "</style>\n",
       "<table border=\"1\" class=\"dataframe\">\n",
       "  <thead>\n",
       "    <tr style=\"text-align: right;\">\n",
       "      <th></th>\n",
       "      <th>Unnamed: 0</th>\n",
       "      <th>제목</th>\n",
       "      <th>본문</th>\n",
       "      <th>민원발생지</th>\n",
       "      <th>민원신청경로</th>\n",
       "      <th>접수기관</th>\n",
       "      <th>처리부서</th>\n",
       "      <th>성별</th>\n",
       "      <th>나이</th>\n",
       "      <th>접수일</th>\n",
       "      <th>year</th>\n",
       "      <th>type</th>\n",
       "      <th>summarize</th>\n",
       "    </tr>\n",
       "  </thead>\n",
       "  <tbody>\n",
       "    <tr>\n",
       "      <th>0</th>\n",
       "      <td>0</td>\n",
       "      <td>농산물(한방재) 부재료의 중량표시 방법</td>\n",
       "      <td>안녕하십니까! 수고많으십니다.\\r\\n\\r\\n농산물(부재료)에 대한 중량표시 및 오차...</td>\n",
       "      <td>전라북도</td>\n",
       "      <td>국민신문고 기관프레임 Web</td>\n",
       "      <td>식품의약품안전처</td>\n",
       "      <td>식품의약품안전처 식품안전정책국 식품안전표시인증과</td>\n",
       "      <td>NaN</td>\n",
       "      <td>NaN</td>\n",
       "      <td>2018-03-16 14:12:04</td>\n",
       "      <td>2018.0</td>\n",
       "      <td>일반</td>\n",
       "      <td>NaN</td>\n",
       "    </tr>\n",
       "    <tr>\n",
       "      <th>1</th>\n",
       "      <td>1</td>\n",
       "      <td>전문건설업간 하도급계약에 관련</td>\n",
       "      <td>안녕하세요 저는 서울에서 일반토목공사를 하는 현장소장입니다.\\r\\n다름이 아니라 \\...</td>\n",
       "      <td>경기도</td>\n",
       "      <td>국민신문고 Web</td>\n",
       "      <td>국토교통부</td>\n",
       "      <td>국토교통부 건설정책국 건설산업과</td>\n",
       "      <td>남자</td>\n",
       "      <td>48.0</td>\n",
       "      <td>2018-03-16 16:48:45</td>\n",
       "      <td>2018.0</td>\n",
       "      <td>일반</td>\n",
       "      <td>안녕하세요 저는 서울에서 일반토목공사를 하는 현장소장입니다.\\n다름이 아니라 \\r\\...</td>\n",
       "    </tr>\n",
       "    <tr>\n",
       "      <th>2</th>\n",
       "      <td>2</td>\n",
       "      <td>녹색건축 예비인증 후 설계변경시 예비인증을 다시 받아야 하는 경우에 관한 질의</td>\n",
       "      <td>1. 녹색건축 예비인증을 받은 이후에 각각 아래 1)에서 4)와 같은 설계변경 또는...</td>\n",
       "      <td>경기도</td>\n",
       "      <td>국민신문고 기관프레임 Web</td>\n",
       "      <td>국토교통부</td>\n",
       "      <td>국토교통부 국토도시실 건축정책관 녹색건축과</td>\n",
       "      <td>NaN</td>\n",
       "      <td>NaN</td>\n",
       "      <td>2018-03-16 16:48:31</td>\n",
       "      <td>2018.0</td>\n",
       "      <td>일반</td>\n",
       "      <td>1. 녹색건축 예비인증을 받은 이후에 각각 아래 1)에서 4)와 같은 설계변경 또는...</td>\n",
       "    </tr>\n",
       "  </tbody>\n",
       "</table>\n",
       "</div>"
      ],
      "text/plain": [
       "   Unnamed: 0                                           제목  \\\n",
       "0           0                        농산물(한방재) 부재료의 중량표시 방법   \n",
       "1           1                             전문건설업간 하도급계약에 관련   \n",
       "2           2  녹색건축 예비인증 후 설계변경시 예비인증을 다시 받아야 하는 경우에 관한 질의   \n",
       "\n",
       "                                                  본문 민원발생지           민원신청경로  \\\n",
       "0  안녕하십니까! 수고많으십니다.\\r\\n\\r\\n농산물(부재료)에 대한 중량표시 및 오차...  전라북도  국민신문고 기관프레임 Web   \n",
       "1  안녕하세요 저는 서울에서 일반토목공사를 하는 현장소장입니다.\\r\\n다름이 아니라 \\...   경기도        국민신문고 Web   \n",
       "2  1. 녹색건축 예비인증을 받은 이후에 각각 아래 1)에서 4)와 같은 설계변경 또는...   경기도  국민신문고 기관프레임 Web   \n",
       "\n",
       "       접수기관                        처리부서   성별    나이                  접수일  \\\n",
       "0  식품의약품안전처  식품의약품안전처 식품안전정책국 식품안전표시인증과  NaN   NaN  2018-03-16 14:12:04   \n",
       "1     국토교통부           국토교통부 건설정책국 건설산업과   남자  48.0  2018-03-16 16:48:45   \n",
       "2     국토교통부     국토교통부 국토도시실 건축정책관 녹색건축과  NaN   NaN  2018-03-16 16:48:31   \n",
       "\n",
       "     year type                                          summarize  \n",
       "0  2018.0   일반                                                NaN  \n",
       "1  2018.0   일반  안녕하세요 저는 서울에서 일반토목공사를 하는 현장소장입니다.\\n다름이 아니라 \\r\\...  \n",
       "2  2018.0   일반  1. 녹색건축 예비인증을 받은 이후에 각각 아래 1)에서 4)와 같은 설계변경 또는...  "
      ]
     },
     "execution_count": 22,
     "metadata": {},
     "output_type": "execute_result"
    }
   ],
   "source": [
    "df.head(3)"
   ]
  },
  {
   "cell_type": "code",
   "execution_count": 24,
   "metadata": {},
   "outputs": [],
   "source": [
    "ddf = dd.from_pandas(df, 1)"
   ]
  },
  {
   "cell_type": "code",
   "execution_count": 25,
   "metadata": {},
   "outputs": [
    {
     "name": "stdout",
     "output_type": "stream",
     "text": [
      "<class 'dask.dataframe.core.DataFrame'>\n",
      "Columns: 13 entries, Unnamed: 0 to summarize\n",
      "dtypes: object(10), float64(2), int64(1)"
     ]
    }
   ],
   "source": [
    "ddf.info()"
   ]
  }
 ],
 "metadata": {
  "interpreter": {
   "hash": "c6f34507fa43ba317958b721fa8398d2051b96ef3f3b32ff98429c26ce06f8cf"
  },
  "kernelspec": {
   "display_name": "Python 3.8.12 ('svmglee')",
   "language": "python",
   "name": "python3"
  },
  "language_info": {
   "codemirror_mode": {
    "name": "ipython",
    "version": 3
   },
   "file_extension": ".py",
   "mimetype": "text/x-python",
   "name": "python",
   "nbconvert_exporter": "python",
   "pygments_lexer": "ipython3",
   "version": "3.8.12"
  },
  "orig_nbformat": 4
 },
 "nbformat": 4,
 "nbformat_minor": 2
}
